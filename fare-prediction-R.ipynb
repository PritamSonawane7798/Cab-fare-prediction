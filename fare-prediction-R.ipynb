{
 "cells": [
  {
   "cell_type": "code",
   "execution_count": 1,
   "metadata": {},
   "outputs": [
    {
     "name": "stderr",
     "output_type": "stream",
     "text": [
      "── \u001b[1mAttaching packages\u001b[22m ─────────────────────────────────────── tidyverse 1.2.1 ──\n",
      "\u001b[32m✔\u001b[39m \u001b[34mggplot2\u001b[39m 3.2.1     \u001b[32m✔\u001b[39m \u001b[34mpurrr  \u001b[39m 0.3.2\n",
      "\u001b[32m✔\u001b[39m \u001b[34mtibble \u001b[39m 2.1.3     \u001b[32m✔\u001b[39m \u001b[34mdplyr  \u001b[39m 0.8.3\n",
      "\u001b[32m✔\u001b[39m \u001b[34mtidyr  \u001b[39m 0.8.3     \u001b[32m✔\u001b[39m \u001b[34mstringr\u001b[39m 1.4.0\n",
      "\u001b[32m✔\u001b[39m \u001b[34mreadr  \u001b[39m 1.3.1     \u001b[32m✔\u001b[39m \u001b[34mforcats\u001b[39m 0.4.0\n",
      "── \u001b[1mConflicts\u001b[22m ────────────────────────────────────────── tidyverse_conflicts() ──\n",
      "\u001b[31m✖\u001b[39m \u001b[34mdplyr\u001b[39m::\u001b[32mfilter()\u001b[39m masks \u001b[34mstats\u001b[39m::filter()\n",
      "\u001b[31m✖\u001b[39m \u001b[34mdplyr\u001b[39m::\u001b[32mlag()\u001b[39m    masks \u001b[34mstats\u001b[39m::lag()\n",
      "also installing the dependencies ‘gridExtra’, ‘viridis’, ‘gtools’, ‘gdata’, ‘caTools’, ‘TSP’, ‘qap’, ‘cluster’, ‘gclus’, ‘dendextend’, ‘gplots’, ‘registry’, ‘seriation’\n",
      "\n",
      "Updating HTML index of packages in '.Library'\n",
      "Making 'packages.html' ... done\n",
      "Updating HTML index of packages in '.Library'\n",
      "Making 'packages.html' ... done\n",
      "Loading required package: lattice\n",
      "\n",
      "Attaching package: ‘caret’\n",
      "\n",
      "The following object is masked from ‘package:purrr’:\n",
      "\n",
      "    lift\n",
      "\n",
      "Registered S3 method overwritten by 'seriation':\n",
      "  method         from \n",
      "  reorder.hclust gclus\n",
      "\n",
      "Attaching package: ‘corrgram’\n",
      "\n",
      "The following object is masked from ‘package:lattice’:\n",
      "\n",
      "    panel.fill\n",
      "\n",
      "Updating HTML index of packages in '.Library'\n",
      "Making 'packages.html' ... done\n",
      "\n",
      "Attaching package: ‘Metrics’\n",
      "\n",
      "The following objects are masked from ‘package:caret’:\n",
      "\n",
      "    precision, recall\n",
      "\n"
     ]
    }
   ],
   "source": [
    "# Load all the packages required for the analysis\n",
    "library(tidyverse)\n",
    "library(ggplot2) # Visualisation\n",
    "install.packages(\"corrgram\")\n",
    "install.packages(\"caret\")\n",
    "library(caret)\n",
    "library(corrgram)\n",
    "install.packages(\"Metrics\")\n",
    "library(Metrics)\n",
    "\n",
    "library(rpart)"
   ]
  },
  {
   "cell_type": "code",
   "execution_count": 57,
   "metadata": {},
   "outputs": [
    {
     "data": {
      "text/html": [
       "<ol class=list-inline>\n",
       "\t<li>16067</li>\n",
       "\t<li>7</li>\n",
       "</ol>\n"
      ],
      "text/latex": [
       "\\begin{enumerate*}\n",
       "\\item 16067\n",
       "\\item 7\n",
       "\\end{enumerate*}\n"
      ],
      "text/markdown": [
       "1. 16067\n",
       "2. 7\n",
       "\n",
       "\n"
      ],
      "text/plain": [
       "[1] 16067     7"
      ]
     },
     "metadata": {},
     "output_type": "display_data"
    },
    {
     "data": {
      "text/html": [
       "<ol class=list-inline>\n",
       "\t<li>'fare_amount'</li>\n",
       "\t<li>'pickup_datetime'</li>\n",
       "\t<li>'pickup_longitude'</li>\n",
       "\t<li>'pickup_latitude'</li>\n",
       "\t<li>'dropoff_longitude'</li>\n",
       "\t<li>'dropoff_latitude'</li>\n",
       "\t<li>'passenger_count'</li>\n",
       "</ol>\n"
      ],
      "text/latex": [
       "\\begin{enumerate*}\n",
       "\\item 'fare\\_amount'\n",
       "\\item 'pickup\\_datetime'\n",
       "\\item 'pickup\\_longitude'\n",
       "\\item 'pickup\\_latitude'\n",
       "\\item 'dropoff\\_longitude'\n",
       "\\item 'dropoff\\_latitude'\n",
       "\\item 'passenger\\_count'\n",
       "\\end{enumerate*}\n"
      ],
      "text/markdown": [
       "1. 'fare_amount'\n",
       "2. 'pickup_datetime'\n",
       "3. 'pickup_longitude'\n",
       "4. 'pickup_latitude'\n",
       "5. 'dropoff_longitude'\n",
       "6. 'dropoff_latitude'\n",
       "7. 'passenger_count'\n",
       "\n",
       "\n"
      ],
      "text/plain": [
       "[1] \"fare_amount\"       \"pickup_datetime\"   \"pickup_longitude\" \n",
       "[4] \"pickup_latitude\"   \"dropoff_longitude\" \"dropoff_latitude\" \n",
       "[7] \"passenger_count\"  "
      ]
     },
     "metadata": {},
     "output_type": "display_data"
    },
    {
     "name": "stdout",
     "output_type": "stream",
     "text": [
      "'data.frame':\t16067 obs. of  7 variables:\n",
      " $ fare_amount      : chr  \"4.5\" \"16.9\" \"5.7\" \"7.7\" ...\n",
      " $ pickup_datetime  : chr  \"2009-06-15 17:26:21 UTC\" \"2010-01-05 16:52:16 UTC\" \"2011-08-18 00:35:00 UTC\" \"2012-04-21 04:30:42 UTC\" ...\n",
      " $ pickup_longitude : num  -73.8 -74 -74 -74 -74 ...\n",
      " $ pickup_latitude  : num  40.7 40.7 40.8 40.7 40.8 ...\n",
      " $ dropoff_longitude: num  -73.8 -74 -74 -74 -74 ...\n",
      " $ dropoff_latitude : num  40.7 40.8 40.8 40.8 40.8 ...\n",
      " $ passenger_count  : num  1 1 2 1 1 1 1 1 1 2 ...\n"
     ]
    }
   ],
   "source": [
    "############################################Explore the data##########################################\n",
    "## Read the data\n",
    "train_df <- read.csv(\"./train_cab.csv\", stringsAsFactors=FALSE)\n",
    "dim(train_df)\n",
    "test_df <- read.csv(\"./test.csv\", stringsAsFactors=FALSE)\n",
    "# column names\n",
    "names(train_df)\n",
    "# datatypes\n",
    "str(train_df)"
   ]
  },
  {
   "cell_type": "markdown",
   "metadata": {},
   "source": [
    "#### From above data we can see fare amount having char datatype also from datetime we can extract year,date and time for model development \n",
    "### Data preprocessing"
   ]
  },
  {
   "cell_type": "code",
   "execution_count": 58,
   "metadata": {},
   "outputs": [
    {
     "name": "stderr",
     "output_type": "stream",
     "text": [
      "Warning message in eval(expr, envir, enclos):\n",
      "“NAs introduced by coercion”"
     ]
    }
   ],
   "source": [
    "train_df$fare_amount = as.numeric(as.character(train_df$fare_amount))"
   ]
  },
  {
   "cell_type": "code",
   "execution_count": 59,
   "metadata": {},
   "outputs": [],
   "source": [
    "# removed -ve ,zero and above 100 values\n",
    "train_df = train_df[-which(train_df$fare_amount < 1 ),]\n",
    "\n",
    "train_df = train_df[-which(train_df$fare_amount > 100 ),]\n"
   ]
  },
  {
   "cell_type": "code",
   "execution_count": 60,
   "metadata": {},
   "outputs": [],
   "source": [
    "train_df = train_df[-which(train_df$passenger_count > 6 ),]"
   ]
  },
  {
   "cell_type": "markdown",
   "metadata": {},
   "source": [
    "#### here I have removed fare amount which are having -ve ,zeroand above 100 values"
   ]
  },
  {
   "cell_type": "code",
   "execution_count": 61,
   "metadata": {},
   "outputs": [
    {
     "data": {
      "text/html": [
       "<ol class=list-inline>\n",
       "\t<li>16033</li>\n",
       "\t<li>7</li>\n",
       "</ol>\n"
      ],
      "text/latex": [
       "\\begin{enumerate*}\n",
       "\\item 16033\n",
       "\\item 7\n",
       "\\end{enumerate*}\n"
      ],
      "text/markdown": [
       "1. 16033\n",
       "2. 7\n",
       "\n",
       "\n"
      ],
      "text/plain": [
       "[1] 16033     7"
      ]
     },
     "metadata": {},
     "output_type": "display_data"
    }
   ],
   "source": [
    "dim(train_df)\n"
   ]
  },
  {
   "cell_type": "code",
   "execution_count": 62,
   "metadata": {},
   "outputs": [],
   "source": [
    "#Convert pickup_datetime from factor to date time\n",
    "train_df$pickup_date = as.Date(as.character(train_df$pickup_datetime))\n",
    "train_df$pickup_mnth = as.factor(format(train_df$pickup_date,\"%m\"))\n",
    "train_df$pickup_yr = as.factor(format(train_df$pickup_date,\"%Y\"))\n",
    "pickup_time = strptime(train_df$pickup_datetime,\"%Y-%m-%d %H:%M:%S\")\n",
    "train_df$pickup_hour = as.factor(format(pickup_time,\"%H\"))\n",
    "#Convert pickup_datetime from factor to date time\n",
    "test_df$pickup_date = as.Date(as.character(test_df$pickup_datetime))\n",
    "test_df$pickup_mnth = as.factor(format(test_df$pickup_date,\"%m\"))\n",
    "test_df$pickup_yr = as.factor(format(test_df$pickup_date,\"%Y\"))\n",
    "pickup_time = strptime(test_df$pickup_datetime,\"%Y-%m-%d %H:%M:%S\")\n",
    "test_df$pickup_hour = as.factor(format(pickup_time,\"%H\"))"
   ]
  },
  {
   "cell_type": "markdown",
   "metadata": {},
   "source": [
    "#### here I have extracted year, month, date ,time features from pickup_datetime also I have done the data type conversion"
   ]
  },
  {
   "cell_type": "code",
   "execution_count": 63,
   "metadata": {},
   "outputs": [
    {
     "data": {
      "text/html": [
       "<ol class=list-inline>\n",
       "\t<li>9914</li>\n",
       "\t<li>10</li>\n",
       "</ol>\n"
      ],
      "text/latex": [
       "\\begin{enumerate*}\n",
       "\\item 9914\n",
       "\\item 10\n",
       "\\end{enumerate*}\n"
      ],
      "text/markdown": [
       "1. 9914\n",
       "2. 10\n",
       "\n",
       "\n"
      ],
      "text/plain": [
       "[1] 9914   10"
      ]
     },
     "metadata": {},
     "output_type": "display_data"
    }
   ],
   "source": [
    "dim(test_df)"
   ]
  },
  {
   "cell_type": "code",
   "execution_count": 64,
   "metadata": {},
   "outputs": [],
   "source": [
    "# Calculate the distance travelled using longitude and latitude\n",
    "deg_to_rad = function(deg){\n",
    "  (deg * pi) / 180\n",
    "}\n",
    "distance = function(long1,lat1,long2,lat2){\n",
    "  #long1rad = deg_to_rad(long1)\n",
    "  phi1 = deg_to_rad(lat1)\n",
    "  #long2rad = deg_to_rad(long2)\n",
    "  phi2 = deg_to_rad(lat2)\n",
    "  delphi = deg_to_rad(lat2 - lat1)\n",
    "  dellamda = deg_to_rad(long2 - long1)\n",
    "  \n",
    "  a = sin(delphi/2) * sin(delphi/2) + cos(phi1) * cos(phi2) * \n",
    "    sin(dellamda/2) * sin(dellamda/2)\n",
    "  \n",
    "  c = 2 * atan2(sqrt(a),sqrt(1-a))\n",
    "  R = 6371e3\n",
    "  R * c / 1000 #1000 is used to convert to meters\n",
    "}"
   ]
  },
  {
   "cell_type": "markdown",
   "metadata": {},
   "source": [
    "#### The above function is a haversine formula determines the great-circle distance between two points on a sphere given their longitudes and latitudes."
   ]
  },
  {
   "cell_type": "code",
   "execution_count": 65,
   "metadata": {},
   "outputs": [],
   "source": [
    "# Using haversine formula to calculate distance fr both train and test\n",
    "train_df$distance = distance(train_df$pickup_longitude,train_df$pickup_latitude,train_df$dropoff_longitude,train_df$dropoff_latitude)\n",
    "test_df$distance = distance(test_df$pickup_longitude,test_df$pickup_latitude,test_df$dropoff_longitude,test_df$dropoff_latitude)"
   ]
  },
  {
   "cell_type": "code",
   "execution_count": 66,
   "metadata": {},
   "outputs": [
    {
     "data": {
      "text/html": [
       "<table>\n",
       "<caption>A data.frame: 12 × 1</caption>\n",
       "<thead>\n",
       "\t<tr><th></th><th scope=col>apply.train_df..2..function.x...</th></tr>\n",
       "\t<tr><th></th><th scope=col>&lt;int&gt;</th></tr>\n",
       "</thead>\n",
       "<tbody>\n",
       "\t<tr><th scope=row>fare_amount</th><td>24</td></tr>\n",
       "\t<tr><th scope=row>pickup_datetime</th><td> 0</td></tr>\n",
       "\t<tr><th scope=row>pickup_longitude</th><td> 0</td></tr>\n",
       "\t<tr><th scope=row>pickup_latitude</th><td> 0</td></tr>\n",
       "\t<tr><th scope=row>dropoff_longitude</th><td> 0</td></tr>\n",
       "\t<tr><th scope=row>dropoff_latitude</th><td> 0</td></tr>\n",
       "\t<tr><th scope=row>passenger_count</th><td>55</td></tr>\n",
       "\t<tr><th scope=row>pickup_date</th><td> 1</td></tr>\n",
       "\t<tr><th scope=row>pickup_mnth</th><td> 1</td></tr>\n",
       "\t<tr><th scope=row>pickup_yr</th><td> 1</td></tr>\n",
       "\t<tr><th scope=row>pickup_hour</th><td> 1</td></tr>\n",
       "\t<tr><th scope=row>distance</th><td> 0</td></tr>\n",
       "</tbody>\n",
       "</table>\n"
      ],
      "text/latex": [
       "A data.frame: 12 × 1\n",
       "\\begin{tabular}{r|l}\n",
       "  & apply.train\\_df..2..function.x...\\\\\n",
       "  & <int>\\\\\n",
       "\\hline\n",
       "\tfare\\_amount & 24\\\\\n",
       "\tpickup\\_datetime &  0\\\\\n",
       "\tpickup\\_longitude &  0\\\\\n",
       "\tpickup\\_latitude &  0\\\\\n",
       "\tdropoff\\_longitude &  0\\\\\n",
       "\tdropoff\\_latitude &  0\\\\\n",
       "\tpassenger\\_count & 55\\\\\n",
       "\tpickup\\_date &  1\\\\\n",
       "\tpickup\\_mnth &  1\\\\\n",
       "\tpickup\\_yr &  1\\\\\n",
       "\tpickup\\_hour &  1\\\\\n",
       "\tdistance &  0\\\\\n",
       "\\end{tabular}\n"
      ],
      "text/markdown": [
       "\n",
       "A data.frame: 12 × 1\n",
       "\n",
       "| <!--/--> | apply.train_df..2..function.x... &lt;int&gt; |\n",
       "|---|---|\n",
       "| fare_amount | 24 |\n",
       "| pickup_datetime |  0 |\n",
       "| pickup_longitude |  0 |\n",
       "| pickup_latitude |  0 |\n",
       "| dropoff_longitude |  0 |\n",
       "| dropoff_latitude |  0 |\n",
       "| passenger_count | 55 |\n",
       "| pickup_date |  1 |\n",
       "| pickup_mnth |  1 |\n",
       "| pickup_yr |  1 |\n",
       "| pickup_hour |  1 |\n",
       "| distance |  0 |\n",
       "\n"
      ],
      "text/plain": [
       "                  apply.train_df..2..function.x...\n",
       "fare_amount       24                              \n",
       "pickup_datetime    0                              \n",
       "pickup_longitude   0                              \n",
       "pickup_latitude    0                              \n",
       "dropoff_longitude  0                              \n",
       "dropoff_latitude   0                              \n",
       "passenger_count   55                              \n",
       "pickup_date        1                              \n",
       "pickup_mnth        1                              \n",
       "pickup_yr          1                              \n",
       "pickup_hour        1                              \n",
       "distance           0                              "
      ]
     },
     "metadata": {},
     "output_type": "display_data"
    }
   ],
   "source": [
    "##################################Missing Values Analysis###############################################\n",
    "\n",
    "missing_val = data.frame(apply(train_df,2,function(x){sum(is.na(x))}))\n",
    "missing_val\n",
    "\n",
    "\n"
   ]
  },
  {
   "cell_type": "code",
   "execution_count": 67,
   "metadata": {},
   "outputs": [],
   "source": [
    "train_df$fare_amount[is.na(train_df$fare_amount)] = mean(train_df$fare_amount, na.rm = T)\n",
    "train_df$passenger_count[is.na(train_df$passenger_count)] = median(train_df$passenger_count, na.rm = T)\n",
    "\n"
   ]
  },
  {
   "cell_type": "code",
   "execution_count": 68,
   "metadata": {},
   "outputs": [
    {
     "data": {
      "text/html": [
       "<table>\n",
       "<caption>A data.frame: 12 × 1</caption>\n",
       "<thead>\n",
       "\t<tr><th></th><th scope=col>apply.train_df..2..function.x...</th></tr>\n",
       "\t<tr><th></th><th scope=col>&lt;int&gt;</th></tr>\n",
       "</thead>\n",
       "<tbody>\n",
       "\t<tr><th scope=row>fare_amount</th><td>0</td></tr>\n",
       "\t<tr><th scope=row>pickup_datetime</th><td>0</td></tr>\n",
       "\t<tr><th scope=row>pickup_longitude</th><td>0</td></tr>\n",
       "\t<tr><th scope=row>pickup_latitude</th><td>0</td></tr>\n",
       "\t<tr><th scope=row>dropoff_longitude</th><td>0</td></tr>\n",
       "\t<tr><th scope=row>dropoff_latitude</th><td>0</td></tr>\n",
       "\t<tr><th scope=row>passenger_count</th><td>0</td></tr>\n",
       "\t<tr><th scope=row>pickup_date</th><td>1</td></tr>\n",
       "\t<tr><th scope=row>pickup_mnth</th><td>1</td></tr>\n",
       "\t<tr><th scope=row>pickup_yr</th><td>1</td></tr>\n",
       "\t<tr><th scope=row>pickup_hour</th><td>1</td></tr>\n",
       "\t<tr><th scope=row>distance</th><td>0</td></tr>\n",
       "</tbody>\n",
       "</table>\n"
      ],
      "text/latex": [
       "A data.frame: 12 × 1\n",
       "\\begin{tabular}{r|l}\n",
       "  & apply.train\\_df..2..function.x...\\\\\n",
       "  & <int>\\\\\n",
       "\\hline\n",
       "\tfare\\_amount & 0\\\\\n",
       "\tpickup\\_datetime & 0\\\\\n",
       "\tpickup\\_longitude & 0\\\\\n",
       "\tpickup\\_latitude & 0\\\\\n",
       "\tdropoff\\_longitude & 0\\\\\n",
       "\tdropoff\\_latitude & 0\\\\\n",
       "\tpassenger\\_count & 0\\\\\n",
       "\tpickup\\_date & 1\\\\\n",
       "\tpickup\\_mnth & 1\\\\\n",
       "\tpickup\\_yr & 1\\\\\n",
       "\tpickup\\_hour & 1\\\\\n",
       "\tdistance & 0\\\\\n",
       "\\end{tabular}\n"
      ],
      "text/markdown": [
       "\n",
       "A data.frame: 12 × 1\n",
       "\n",
       "| <!--/--> | apply.train_df..2..function.x... &lt;int&gt; |\n",
       "|---|---|\n",
       "| fare_amount | 0 |\n",
       "| pickup_datetime | 0 |\n",
       "| pickup_longitude | 0 |\n",
       "| pickup_latitude | 0 |\n",
       "| dropoff_longitude | 0 |\n",
       "| dropoff_latitude | 0 |\n",
       "| passenger_count | 0 |\n",
       "| pickup_date | 1 |\n",
       "| pickup_mnth | 1 |\n",
       "| pickup_yr | 1 |\n",
       "| pickup_hour | 1 |\n",
       "| distance | 0 |\n",
       "\n"
      ],
      "text/plain": [
       "                  apply.train_df..2..function.x...\n",
       "fare_amount       0                               \n",
       "pickup_datetime   0                               \n",
       "pickup_longitude  0                               \n",
       "pickup_latitude   0                               \n",
       "dropoff_longitude 0                               \n",
       "dropoff_latitude  0                               \n",
       "passenger_count   0                               \n",
       "pickup_date       1                               \n",
       "pickup_mnth       1                               \n",
       "pickup_yr         1                               \n",
       "pickup_hour       1                               \n",
       "distance          0                               "
      ]
     },
     "metadata": {},
     "output_type": "display_data"
    }
   ],
   "source": [
    "missing_val = data.frame(apply(train_df,2,function(x){sum(is.na(x))}))\n",
    "missing_val"
   ]
  },
  {
   "cell_type": "code",
   "execution_count": 69,
   "metadata": {},
   "outputs": [],
   "source": [
    "\n",
    "train_df=na.omit(train_df)"
   ]
  },
  {
   "cell_type": "code",
   "execution_count": 70,
   "metadata": {},
   "outputs": [],
   "source": [
    "train_df$pickup_mnth = as.factor(as.character(train_df$pickup_mnth))\n",
    "train_df$pickup_yr = as.factor(as.character(train_df$pickup_yr))\n",
    "train_df$pickup_hour = as.numeric(train_df$pickup_hour)\n",
    "test_df$pickup_mnth = as.factor(as.character(test_df$pickup_mnth))\n",
    "test_df$pickup_yr = as.factor(as.character(test_df$pickup_yr))\n",
    "test_df$pickup_hour = as.numeric(test_df$pickup_hour)"
   ]
  },
  {
   "cell_type": "code",
   "execution_count": 71,
   "metadata": {},
   "outputs": [
    {
     "data": {
      "text/html": [
       "<ol class=list-inline>\n",
       "\t<li>16032</li>\n",
       "\t<li>12</li>\n",
       "</ol>\n"
      ],
      "text/latex": [
       "\\begin{enumerate*}\n",
       "\\item 16032\n",
       "\\item 12\n",
       "\\end{enumerate*}\n"
      ],
      "text/markdown": [
       "1. 16032\n",
       "2. 12\n",
       "\n",
       "\n"
      ],
      "text/plain": [
       "[1] 16032    12"
      ]
     },
     "metadata": {},
     "output_type": "display_data"
    }
   ],
   "source": [
    "dim(train_df)"
   ]
  },
  {
   "cell_type": "code",
   "execution_count": 72,
   "metadata": {},
   "outputs": [
    {
     "data": {
      "text/plain": [
       "  fare_amount    pickup_datetime    pickup_longitude pickup_latitude \n",
       " Min.   : 1.14   Length:16032       Min.   :-74.44   Min.   :-74.01  \n",
       " 1st Qu.: 6.00   Class :character   1st Qu.:-73.99   1st Qu.: 40.73  \n",
       " Median : 8.50   Mode  :character   Median :-73.98   Median : 40.75  \n",
       " Mean   :11.27                      Mean   :-72.47   Mean   : 39.92  \n",
       " 3rd Qu.:12.50                      3rd Qu.:-73.97   3rd Qu.: 40.77  \n",
       " Max.   :96.00                      Max.   : 40.77   Max.   :401.08  \n",
       "                                                                     \n",
       " dropoff_longitude dropoff_latitude passenger_count  pickup_date        \n",
       " Min.   :-74.23    Min.   :-74.01   Min.   :0.000   Min.   :2009-01-01  \n",
       " 1st Qu.:-73.99    1st Qu.: 40.73   1st Qu.:1.000   1st Qu.:2010-08-08  \n",
       " Median :-73.98    Median : 40.75   Median :1.000   Median :2012-03-15  \n",
       " Mean   :-72.47    Mean   : 39.90   Mean   :1.642   Mean   :2012-03-17  \n",
       " 3rd Qu.:-73.96    3rd Qu.: 40.77   3rd Qu.:2.000   3rd Qu.:2013-10-10  \n",
       " Max.   : 40.80    Max.   : 41.37   Max.   :6.000   Max.   :2015-06-30  \n",
       "                                                                        \n",
       "  pickup_mnth   pickup_yr    pickup_hour      distance       \n",
       " 03     :1521   2009:2474   Min.   : 1.0   Min.   :   0.000  \n",
       " 05     :1507   2010:2492   1st Qu.:10.0   1st Qu.:   1.216  \n",
       " 06     :1495   2011:2500   Median :15.0   Median :   2.126  \n",
       " 01     :1470   2012:2583   Mean   :14.5   Mean   :  16.054  \n",
       " 04     :1436   2013:2518   3rd Qu.:20.0   3rd Qu.:   3.855  \n",
       " 02     :1333   2014:2315   Max.   :24.0   Max.   :8667.542  \n",
       " (Other):7270   2015:1150                                    "
      ]
     },
     "metadata": {},
     "output_type": "display_data"
    }
   ],
   "source": [
    "summary(train_df)"
   ]
  },
  {
   "cell_type": "code",
   "execution_count": 73,
   "metadata": {},
   "outputs": [
    {
     "data": {
      "text/plain": [
       " pickup_datetime    pickup_longitude pickup_latitude dropoff_longitude\n",
       " Length:9914        Min.   :-74.25   Min.   :40.57   Min.   :-74.26   \n",
       " Class :character   1st Qu.:-73.99   1st Qu.:40.74   1st Qu.:-73.99   \n",
       " Mode  :character   Median :-73.98   Median :40.75   Median :-73.98   \n",
       "                    Mean   :-73.97   Mean   :40.75   Mean   :-73.97   \n",
       "                    3rd Qu.:-73.97   3rd Qu.:40.77   3rd Qu.:-73.96   \n",
       "                    Max.   :-72.99   Max.   :41.71   Max.   :-72.99   \n",
       "                                                                      \n",
       " dropoff_latitude passenger_count  pickup_date          pickup_mnth  \n",
       " Min.   :40.57    Min.   :1.000   Min.   :2009-01-01   06     :1495  \n",
       " 1st Qu.:40.74    1st Qu.:1.000   1st Qu.:2010-11-17   09     :1073  \n",
       " Median :40.75    Median :1.000   Median :2012-01-26   10     : 943  \n",
       " Mean   :40.75    Mean   :1.671   Mean   :2012-05-05   12     : 933  \n",
       " 3rd Qu.:40.77    3rd Qu.:2.000   3rd Qu.:2014-01-11   03     : 908  \n",
       " Max.   :41.70    Max.   :6.000   Max.   :2015-06-30   11     : 776  \n",
       "                                                       (Other):3786  \n",
       " pickup_yr    pickup_hour       distance      \n",
       " 2009:1022   Min.   : 1.00   Min.   :  0.000  \n",
       " 2010:1753   1st Qu.: 9.00   1st Qu.:  1.298  \n",
       " 2011:2050   Median :16.00   Median :  2.217  \n",
       " 2012:1433   Mean   :14.47   Mean   :  3.435  \n",
       " 2013:1135   3rd Qu.:20.00   3rd Qu.:  4.045  \n",
       " 2014:1902   Max.   :24.00   Max.   : 99.996  \n",
       " 2015: 619                                    "
      ]
     },
     "metadata": {},
     "output_type": "display_data"
    }
   ],
   "source": [
    "summary(test_df)"
   ]
  },
  {
   "cell_type": "markdown",
   "metadata": {},
   "source": [
    "### from the summary of train data and test data we can see the average values ,min and maximum values ,outliers \n",
    "### pickup_latitude have 1 outlier in training dataset"
   ]
  },
  {
   "cell_type": "code",
   "execution_count": 74,
   "metadata": {},
   "outputs": [
    {
     "data": {
      "text/html": [
       "<strong>pickup_latitude:</strong> 1"
      ],
      "text/latex": [
       "\\textbf{pickup\\textbackslash{}\\_latitude:} 1"
      ],
      "text/markdown": [
       "**pickup_latitude:** 1"
      ],
      "text/plain": [
       "pickup_latitude \n",
       "              1 "
      ]
     },
     "metadata": {},
     "output_type": "display_data"
    }
   ],
   "source": [
    "\n",
    "colSums(train_df[c(\"pickup_latitude\")] > 80)"
   ]
  },
  {
   "cell_type": "code",
   "execution_count": 75,
   "metadata": {},
   "outputs": [],
   "source": [
    "\n",
    "train_df = train_df[-which(train_df$pickup_latitude > 80 ),]"
   ]
  },
  {
   "cell_type": "code",
   "execution_count": 76,
   "metadata": {},
   "outputs": [
    {
     "data": {
      "text/html": [
       "<table>\n",
       "<caption>A matrix: 8 × 8 of type dbl</caption>\n",
       "<thead>\n",
       "\t<tr><th></th><th scope=col>fare_amount</th><th scope=col>pickup_longitude</th><th scope=col>pickup_latitude</th><th scope=col>dropoff_longitude</th><th scope=col>dropoff_latitude</th><th scope=col>passenger_count</th><th scope=col>pickup_hour</th><th scope=col>distance</th></tr>\n",
       "</thead>\n",
       "<tbody>\n",
       "\t<tr><th scope=row>fare_amount</th><td> 1.000000000</td><td> 0.003612211</td><td>-0.005281836</td><td> 0.003455878</td><td>-0.0052443169</td><td> 0.0098991335</td><td>-0.031121119</td><td> 0.030327568</td></tr>\n",
       "\t<tr><th scope=row>pickup_longitude</th><td> 0.003612211</td><td> 1.000000000</td><td>-0.983516138</td><td> 0.963448102</td><td>-0.9515643376</td><td>-0.0027840527</td><td>-0.008246860</td><td> 0.133030538</td></tr>\n",
       "\t<tr><th scope=row>pickup_latitude</th><td>-0.005281836</td><td>-0.983516138</td><td> 1.000000000</td><td>-0.949212865</td><td> 0.9701727519</td><td> 0.0018149904</td><td> 0.010106587</td><td>-0.124683055</td></tr>\n",
       "\t<tr><th scope=row>dropoff_longitude</th><td> 0.003455878</td><td> 0.963448102</td><td>-0.949212865</td><td> 1.000000000</td><td>-0.9778882012</td><td>-0.0024242074</td><td>-0.007726925</td><td> 0.120759841</td></tr>\n",
       "\t<tr><th scope=row>dropoff_latitude</th><td>-0.005244317</td><td>-0.951564338</td><td> 0.970172752</td><td>-0.977888201</td><td> 1.0000000000</td><td> 0.0004361996</td><td> 0.009114185</td><td>-0.097648500</td></tr>\n",
       "\t<tr><th scope=row>passenger_count</th><td> 0.009899133</td><td>-0.002784053</td><td> 0.001814990</td><td>-0.002424207</td><td> 0.0004361996</td><td> 1.0000000000</td><td> 0.017668383</td><td>-0.006673928</td></tr>\n",
       "\t<tr><th scope=row>pickup_hour</th><td>-0.031121119</td><td>-0.008246860</td><td> 0.010106587</td><td>-0.007726925</td><td> 0.0091141851</td><td> 0.0176683833</td><td> 1.000000000</td><td> 0.002778759</td></tr>\n",
       "\t<tr><th scope=row>distance</th><td> 0.030327568</td><td> 0.133030538</td><td>-0.124683055</td><td> 0.120759841</td><td>-0.0976484997</td><td>-0.0066739276</td><td> 0.002778759</td><td> 1.000000000</td></tr>\n",
       "</tbody>\n",
       "</table>\n"
      ],
      "text/latex": [
       "A matrix: 8 × 8 of type dbl\n",
       "\\begin{tabular}{r|llllllll}\n",
       "  & fare\\_amount & pickup\\_longitude & pickup\\_latitude & dropoff\\_longitude & dropoff\\_latitude & passenger\\_count & pickup\\_hour & distance\\\\\n",
       "\\hline\n",
       "\tfare\\_amount &  1.000000000 &  0.003612211 & -0.005281836 &  0.003455878 & -0.0052443169 &  0.0098991335 & -0.031121119 &  0.030327568\\\\\n",
       "\tpickup\\_longitude &  0.003612211 &  1.000000000 & -0.983516138 &  0.963448102 & -0.9515643376 & -0.0027840527 & -0.008246860 &  0.133030538\\\\\n",
       "\tpickup\\_latitude & -0.005281836 & -0.983516138 &  1.000000000 & -0.949212865 &  0.9701727519 &  0.0018149904 &  0.010106587 & -0.124683055\\\\\n",
       "\tdropoff\\_longitude &  0.003455878 &  0.963448102 & -0.949212865 &  1.000000000 & -0.9778882012 & -0.0024242074 & -0.007726925 &  0.120759841\\\\\n",
       "\tdropoff\\_latitude & -0.005244317 & -0.951564338 &  0.970172752 & -0.977888201 &  1.0000000000 &  0.0004361996 &  0.009114185 & -0.097648500\\\\\n",
       "\tpassenger\\_count &  0.009899133 & -0.002784053 &  0.001814990 & -0.002424207 &  0.0004361996 &  1.0000000000 &  0.017668383 & -0.006673928\\\\\n",
       "\tpickup\\_hour & -0.031121119 & -0.008246860 &  0.010106587 & -0.007726925 &  0.0091141851 &  0.0176683833 &  1.000000000 &  0.002778759\\\\\n",
       "\tdistance &  0.030327568 &  0.133030538 & -0.124683055 &  0.120759841 & -0.0976484997 & -0.0066739276 &  0.002778759 &  1.000000000\\\\\n",
       "\\end{tabular}\n"
      ],
      "text/markdown": [
       "\n",
       "A matrix: 8 × 8 of type dbl\n",
       "\n",
       "| <!--/--> | fare_amount | pickup_longitude | pickup_latitude | dropoff_longitude | dropoff_latitude | passenger_count | pickup_hour | distance |\n",
       "|---|---|---|---|---|---|---|---|---|\n",
       "| fare_amount |  1.000000000 |  0.003612211 | -0.005281836 |  0.003455878 | -0.0052443169 |  0.0098991335 | -0.031121119 |  0.030327568 |\n",
       "| pickup_longitude |  0.003612211 |  1.000000000 | -0.983516138 |  0.963448102 | -0.9515643376 | -0.0027840527 | -0.008246860 |  0.133030538 |\n",
       "| pickup_latitude | -0.005281836 | -0.983516138 |  1.000000000 | -0.949212865 |  0.9701727519 |  0.0018149904 |  0.010106587 | -0.124683055 |\n",
       "| dropoff_longitude |  0.003455878 |  0.963448102 | -0.949212865 |  1.000000000 | -0.9778882012 | -0.0024242074 | -0.007726925 |  0.120759841 |\n",
       "| dropoff_latitude | -0.005244317 | -0.951564338 |  0.970172752 | -0.977888201 |  1.0000000000 |  0.0004361996 |  0.009114185 | -0.097648500 |\n",
       "| passenger_count |  0.009899133 | -0.002784053 |  0.001814990 | -0.002424207 |  0.0004361996 |  1.0000000000 |  0.017668383 | -0.006673928 |\n",
       "| pickup_hour | -0.031121119 | -0.008246860 |  0.010106587 | -0.007726925 |  0.0091141851 |  0.0176683833 |  1.000000000 |  0.002778759 |\n",
       "| distance |  0.030327568 |  0.133030538 | -0.124683055 |  0.120759841 | -0.0976484997 | -0.0066739276 |  0.002778759 |  1.000000000 |\n",
       "\n"
      ],
      "text/plain": [
       "                  fare_amount  pickup_longitude pickup_latitude\n",
       "fare_amount        1.000000000  0.003612211     -0.005281836   \n",
       "pickup_longitude   0.003612211  1.000000000     -0.983516138   \n",
       "pickup_latitude   -0.005281836 -0.983516138      1.000000000   \n",
       "dropoff_longitude  0.003455878  0.963448102     -0.949212865   \n",
       "dropoff_latitude  -0.005244317 -0.951564338      0.970172752   \n",
       "passenger_count    0.009899133 -0.002784053      0.001814990   \n",
       "pickup_hour       -0.031121119 -0.008246860      0.010106587   \n",
       "distance           0.030327568  0.133030538     -0.124683055   \n",
       "                  dropoff_longitude dropoff_latitude passenger_count\n",
       "fare_amount        0.003455878      -0.0052443169     0.0098991335  \n",
       "pickup_longitude   0.963448102      -0.9515643376    -0.0027840527  \n",
       "pickup_latitude   -0.949212865       0.9701727519     0.0018149904  \n",
       "dropoff_longitude  1.000000000      -0.9778882012    -0.0024242074  \n",
       "dropoff_latitude  -0.977888201       1.0000000000     0.0004361996  \n",
       "passenger_count   -0.002424207       0.0004361996     1.0000000000  \n",
       "pickup_hour       -0.007726925       0.0091141851     0.0176683833  \n",
       "distance           0.120759841      -0.0976484997    -0.0066739276  \n",
       "                  pickup_hour  distance    \n",
       "fare_amount       -0.031121119  0.030327568\n",
       "pickup_longitude  -0.008246860  0.133030538\n",
       "pickup_latitude    0.010106587 -0.124683055\n",
       "dropoff_longitude -0.007726925  0.120759841\n",
       "dropoff_latitude   0.009114185 -0.097648500\n",
       "passenger_count    0.017668383 -0.006673928\n",
       "pickup_hour        1.000000000  0.002778759\n",
       "distance           0.002778759  1.000000000"
      ]
     },
     "metadata": {},
     "output_type": "display_data"
    }
   ],
   "source": [
    "numeric_index = sapply(train_df,is.numeric)\n",
    "##################################Feature Selection################################################\n",
    "## Correlation Plot \n",
    "train_correlations <- cor(train_df[,numeric_index])\n",
    "train_correlations\n"
   ]
  },
  {
   "cell_type": "code",
   "execution_count": 78,
   "metadata": {},
   "outputs": [
    {
     "data": {
      "image/png": "[encoded data removed]",
      "text/plain": [
       "plot without title"
      ]
     },
     "metadata": {},
     "output_type": "display_data"
    }
   ],
   "source": [
    "corrgram(train_df[,numeric_index], order = F,\n",
    "         upper.panel=panel.pie, text.panel=panel.txt, main = \"Correlation Plot\")"
   ]
  },
  {
   "cell_type": "markdown",
   "metadata": {},
   "source": [
    "from correlation analysis "
   ]
  },
  {
   "cell_type": "code",
   "execution_count": 83,
   "metadata": {},
   "outputs": [
    {
     "data": {
      "text/html": [
       "<table>\n",
       "<caption>A data.frame: 6 × 12</caption>\n",
       "<thead>\n",
       "\t<tr><th scope=col>fare_amount</th><th scope=col>pickup_datetime</th><th scope=col>pickup_longitude</th><th scope=col>pickup_latitude</th><th scope=col>dropoff_longitude</th><th scope=col>dropoff_latitude</th><th scope=col>passenger_count</th><th scope=col>pickup_date</th><th scope=col>pickup_mnth</th><th scope=col>pickup_yr</th><th scope=col>pickup_hour</th><th scope=col>distance</th></tr>\n",
       "\t<tr><th scope=col>&lt;dbl&gt;</th><th scope=col>&lt;chr&gt;</th><th scope=col>&lt;dbl&gt;</th><th scope=col>&lt;dbl&gt;</th><th scope=col>&lt;dbl&gt;</th><th scope=col>&lt;dbl&gt;</th><th scope=col>&lt;dbl&gt;</th><th scope=col>&lt;date&gt;</th><th scope=col>&lt;fct&gt;</th><th scope=col>&lt;fct&gt;</th><th scope=col>&lt;dbl&gt;</th><th scope=col>&lt;dbl&gt;</th></tr>\n",
       "</thead>\n",
       "<tbody>\n",
       "\t<tr><td> 4.5</td><td>2009-06-15 17:26:21 UTC</td><td>-73.84431</td><td>40.72132</td><td>-73.84161</td><td>40.71228</td><td>1</td><td>2009-06-15</td><td>06</td><td>2009</td><td>18</td><td>1.030764</td></tr>\n",
       "\t<tr><td>16.9</td><td>2010-01-05 16:52:16 UTC</td><td>-74.01605</td><td>40.71130</td><td>-73.97927</td><td>40.78200</td><td>1</td><td>2010-01-05</td><td>01</td><td>2010</td><td>17</td><td>8.450134</td></tr>\n",
       "\t<tr><td> 5.7</td><td>2011-08-18 00:35:00 UTC</td><td>-73.98274</td><td>40.76127</td><td>-73.99124</td><td>40.75056</td><td>2</td><td>2011-08-18</td><td>08</td><td>2011</td><td> 1</td><td>1.389525</td></tr>\n",
       "\t<tr><td> 7.7</td><td>2012-04-21 04:30:42 UTC</td><td>-73.98713</td><td>40.73314</td><td>-73.99157</td><td>40.75809</td><td>1</td><td>2012-04-21</td><td>04</td><td>2012</td><td> 5</td><td>2.799270</td></tr>\n",
       "\t<tr><td> 5.3</td><td>2010-03-09 07:51:00 UTC</td><td>-73.96810</td><td>40.76801</td><td>-73.95665</td><td>40.78376</td><td>1</td><td>2010-03-09</td><td>03</td><td>2010</td><td> 8</td><td>1.999157</td></tr>\n",
       "\t<tr><td>12.1</td><td>2011-01-06 09:50:45 UTC</td><td>-74.00096</td><td>40.73163</td><td>-73.97289</td><td>40.75823</td><td>1</td><td>2011-01-06</td><td>01</td><td>2011</td><td>10</td><td>3.787239</td></tr>\n",
       "</tbody>\n",
       "</table>\n"
      ],
      "text/latex": [
       "A data.frame: 6 × 12\n",
       "\\begin{tabular}{r|llllllllllll}\n",
       " fare\\_amount & pickup\\_datetime & pickup\\_longitude & pickup\\_latitude & dropoff\\_longitude & dropoff\\_latitude & passenger\\_count & pickup\\_date & pickup\\_mnth & pickup\\_yr & pickup\\_hour & distance\\\\\n",
       " <dbl> & <chr> & <dbl> & <dbl> & <dbl> & <dbl> & <dbl> & <date> & <fct> & <fct> & <dbl> & <dbl>\\\\\n",
       "\\hline\n",
       "\t  4.5 & 2009-06-15 17:26:21 UTC & -73.84431 & 40.72132 & -73.84161 & 40.71228 & 1 & 2009-06-15 & 06 & 2009 & 18 & 1.030764\\\\\n",
       "\t 16.9 & 2010-01-05 16:52:16 UTC & -74.01605 & 40.71130 & -73.97927 & 40.78200 & 1 & 2010-01-05 & 01 & 2010 & 17 & 8.450134\\\\\n",
       "\t  5.7 & 2011-08-18 00:35:00 UTC & -73.98274 & 40.76127 & -73.99124 & 40.75056 & 2 & 2011-08-18 & 08 & 2011 &  1 & 1.389525\\\\\n",
       "\t  7.7 & 2012-04-21 04:30:42 UTC & -73.98713 & 40.73314 & -73.99157 & 40.75809 & 1 & 2012-04-21 & 04 & 2012 &  5 & 2.799270\\\\\n",
       "\t  5.3 & 2010-03-09 07:51:00 UTC & -73.96810 & 40.76801 & -73.95665 & 40.78376 & 1 & 2010-03-09 & 03 & 2010 &  8 & 1.999157\\\\\n",
       "\t 12.1 & 2011-01-06 09:50:45 UTC & -74.00096 & 40.73163 & -73.97289 & 40.75823 & 1 & 2011-01-06 & 01 & 2011 & 10 & 3.787239\\\\\n",
       "\\end{tabular}\n"
      ],
      "text/markdown": [
       "\n",
       "A data.frame: 6 × 12\n",
       "\n",
       "| fare_amount &lt;dbl&gt; | pickup_datetime &lt;chr&gt; | pickup_longitude &lt;dbl&gt; | pickup_latitude &lt;dbl&gt; | dropoff_longitude &lt;dbl&gt; | dropoff_latitude &lt;dbl&gt; | passenger_count &lt;dbl&gt; | pickup_date &lt;date&gt; | pickup_mnth &lt;fct&gt; | pickup_yr &lt;fct&gt; | pickup_hour &lt;dbl&gt; | distance &lt;dbl&gt; |\n",
       "|---|---|---|---|---|---|---|---|---|---|---|---|\n",
       "|  4.5 | 2009-06-15 17:26:21 UTC | -73.84431 | 40.72132 | -73.84161 | 40.71228 | 1 | 2009-06-15 | 06 | 2009 | 18 | 1.030764 |\n",
       "| 16.9 | 2010-01-05 16:52:16 UTC | -74.01605 | 40.71130 | -73.97927 | 40.78200 | 1 | 2010-01-05 | 01 | 2010 | 17 | 8.450134 |\n",
       "|  5.7 | 2011-08-18 00:35:00 UTC | -73.98274 | 40.76127 | -73.99124 | 40.75056 | 2 | 2011-08-18 | 08 | 2011 |  1 | 1.389525 |\n",
       "|  7.7 | 2012-04-21 04:30:42 UTC | -73.98713 | 40.73314 | -73.99157 | 40.75809 | 1 | 2012-04-21 | 04 | 2012 |  5 | 2.799270 |\n",
       "|  5.3 | 2010-03-09 07:51:00 UTC | -73.96810 | 40.76801 | -73.95665 | 40.78376 | 1 | 2010-03-09 | 03 | 2010 |  8 | 1.999157 |\n",
       "| 12.1 | 2011-01-06 09:50:45 UTC | -74.00096 | 40.73163 | -73.97289 | 40.75823 | 1 | 2011-01-06 | 01 | 2011 | 10 | 3.787239 |\n",
       "\n"
      ],
      "text/plain": [
       "  fare_amount pickup_datetime         pickup_longitude pickup_latitude\n",
       "1  4.5        2009-06-15 17:26:21 UTC -73.84431        40.72132       \n",
       "2 16.9        2010-01-05 16:52:16 UTC -74.01605        40.71130       \n",
       "3  5.7        2011-08-18 00:35:00 UTC -73.98274        40.76127       \n",
       "4  7.7        2012-04-21 04:30:42 UTC -73.98713        40.73314       \n",
       "5  5.3        2010-03-09 07:51:00 UTC -73.96810        40.76801       \n",
       "6 12.1        2011-01-06 09:50:45 UTC -74.00096        40.73163       \n",
       "  dropoff_longitude dropoff_latitude passenger_count pickup_date pickup_mnth\n",
       "1 -73.84161         40.71228         1               2009-06-15  06         \n",
       "2 -73.97927         40.78200         1               2010-01-05  01         \n",
       "3 -73.99124         40.75056         2               2011-08-18  08         \n",
       "4 -73.99157         40.75809         1               2012-04-21  04         \n",
       "5 -73.95665         40.78376         1               2010-03-09  03         \n",
       "6 -73.97289         40.75823         1               2011-01-06  01         \n",
       "  pickup_yr pickup_hour distance\n",
       "1 2009      18          1.030764\n",
       "2 2010      17          8.450134\n",
       "3 2011       1          1.389525\n",
       "4 2012       5          2.799270\n",
       "5 2010       8          1.999157\n",
       "6 2011      10          3.787239"
      ]
     },
     "metadata": {},
     "output_type": "display_data"
    }
   ],
   "source": [
    "head(train_df)\n"
   ]
  },
  {
   "cell_type": "code",
   "execution_count": 99,
   "metadata": {},
   "outputs": [],
   "source": [
    "#Create a new subset for training model\n",
    "final_train_df<-subset(train_df,select=c('fare_amount','pickup_longitude','dropoff_longitude','pickup_latitude','dropoff_latitude',\n",
    "                                        'passenger_count','pickup_date','pickup_mnth','pickup_yr', 'pickup_hour','distance'))\n",
    "#Create a new subset for training model\n",
    "final_test_df<-subset(test_df,select=c('pickup_longitude','dropoff_longitude','pickup_latitude','dropoff_latitude',\n",
    "                                        'passenger_count','pickup_date','pickup_mnth','pickup_yr', 'pickup_hour','distance'))"
   ]
  },
  {
   "cell_type": "code",
   "execution_count": 86,
   "metadata": {},
   "outputs": [
    {
     "name": "stdout",
     "output_type": "stream",
     "text": [
      "'data.frame':\t12827 obs. of  11 variables:\n",
      " $ fare_amount      : num  4.5 16.9 5.7 7.7 5.3 ...\n",
      " $ pickup_longitude : num  -73.8 -74 -74 -74 -74 ...\n",
      " $ dropoff_longitude: num  -73.8 -74 -74 -74 -74 ...\n",
      " $ pickup_latitude  : num  40.7 40.7 40.8 40.7 40.8 ...\n",
      " $ dropoff_latitude : num  40.7 40.8 40.8 40.8 40.8 ...\n",
      " $ passenger_count  : num  1 1 2 1 1 1 1 1 1 3 ...\n",
      " $ pickup_date      : Date, format: \"2009-06-15\" \"2010-01-05\" ...\n",
      " $ pickup_mnth      : Factor w/ 12 levels \"01\",\"02\",\"03\",..: 6 1 8 4 3 1 1 12 4 12 ...\n",
      " $ pickup_yr        : Factor w/ 7 levels \"2009\",\"2010\",..: 1 2 3 4 2 3 4 4 4 4 ...\n",
      " $ pickup_hour      : num  18 17 1 5 8 10 18 14 8 12 ...\n",
      " $ distance         : num  1.03 8.45 1.39 2.8 2 ...\n"
     ]
    }
   ],
   "source": [
    "##########################################model development ##################################################\n",
    "\n",
    "train.index = createDataPartition(final_train_df$fare_amount, p = .80, list = FALSE)\n",
    "train = final_train_df[ train.index,]\n",
    "test  = final_train_df[-train.index,]\n",
    "str(train)"
   ]
  },
  {
   "cell_type": "code",
   "execution_count": 91,
   "metadata": {},
   "outputs": [
    {
     "data": {
      "image/png": "[encoded data removed]",
      "text/plain": [
       "plot without title"
      ]
     },
     "metadata": {},
     "output_type": "display_data"
    }
   ],
   "source": [
    "###################################Decision tree for regression###########################################\n",
    "# \n",
    "# lets develope decision rules for predicting a continuous (regression tree) outcome.\n",
    "\n",
    "# ##rpart for regression\n",
    "\n",
    "\n",
    "fit = rpart(fare_amount ~ ., data = train, method = \"anova\")\n",
    "\n",
    "\n",
    "# decision tree model visualisation\n",
    "par(cex= 0.8)\n",
    "plot(fit)\n",
    "text(fit)\n"
   ]
  },
  {
   "cell_type": "code",
   "execution_count": 92,
   "metadata": {},
   "outputs": [
    {
     "data": {
      "text/html": [
       "<table>\n",
       "<caption>A data.frame: 6 × 11</caption>\n",
       "<thead>\n",
       "\t<tr><th scope=col>pickup_datetime</th><th scope=col>pickup_longitude</th><th scope=col>pickup_latitude</th><th scope=col>dropoff_longitude</th><th scope=col>dropoff_latitude</th><th scope=col>passenger_count</th><th scope=col>pickup_date</th><th scope=col>pickup_mnth</th><th scope=col>pickup_yr</th><th scope=col>pickup_hour</th><th scope=col>distance</th></tr>\n",
       "\t<tr><th scope=col>&lt;chr&gt;</th><th scope=col>&lt;dbl&gt;</th><th scope=col>&lt;dbl&gt;</th><th scope=col>&lt;dbl&gt;</th><th scope=col>&lt;dbl&gt;</th><th scope=col>&lt;int&gt;</th><th scope=col>&lt;date&gt;</th><th scope=col>&lt;fct&gt;</th><th scope=col>&lt;fct&gt;</th><th scope=col>&lt;dbl&gt;</th><th scope=col>&lt;dbl&gt;</th></tr>\n",
       "</thead>\n",
       "<tbody>\n",
       "\t<tr><td>2015-01-27 13:08:24 UTC</td><td>-73.97332</td><td>40.76381</td><td>-73.98143</td><td>40.74384</td><td>1</td><td>2015-01-27</td><td>01</td><td>2015</td><td>14</td><td>2.3232595</td></tr>\n",
       "\t<tr><td>2015-01-27 13:08:24 UTC</td><td>-73.98686</td><td>40.71938</td><td>-73.99889</td><td>40.73920</td><td>1</td><td>2015-01-27</td><td>01</td><td>2015</td><td>14</td><td>2.4253529</td></tr>\n",
       "\t<tr><td>2011-10-08 11:53:44 UTC</td><td>-73.98252</td><td>40.75126</td><td>-73.97965</td><td>40.74614</td><td>1</td><td>2011-10-08</td><td>10</td><td>2011</td><td>12</td><td>0.6186279</td></tr>\n",
       "\t<tr><td>2012-12-01 21:12:12 UTC</td><td>-73.98116</td><td>40.76781</td><td>-73.99045</td><td>40.75164</td><td>1</td><td>2012-12-01</td><td>12</td><td>2012</td><td>22</td><td>1.9610325</td></tr>\n",
       "\t<tr><td>2012-12-01 21:12:12 UTC</td><td>-73.96605</td><td>40.78977</td><td>-73.98856</td><td>40.74443</td><td>1</td><td>2012-12-01</td><td>12</td><td>2012</td><td>22</td><td>5.3873013</td></tr>\n",
       "\t<tr><td>2012-12-01 21:12:12 UTC</td><td>-73.96098</td><td>40.76555</td><td>-73.97918</td><td>40.74005</td><td>1</td><td>2012-12-01</td><td>12</td><td>2012</td><td>22</td><td>3.2225489</td></tr>\n",
       "</tbody>\n",
       "</table>\n"
      ],
      "text/latex": [
       "A data.frame: 6 × 11\n",
       "\\begin{tabular}{r|lllllllllll}\n",
       " pickup\\_datetime & pickup\\_longitude & pickup\\_latitude & dropoff\\_longitude & dropoff\\_latitude & passenger\\_count & pickup\\_date & pickup\\_mnth & pickup\\_yr & pickup\\_hour & distance\\\\\n",
       " <chr> & <dbl> & <dbl> & <dbl> & <dbl> & <int> & <date> & <fct> & <fct> & <dbl> & <dbl>\\\\\n",
       "\\hline\n",
       "\t 2015-01-27 13:08:24 UTC & -73.97332 & 40.76381 & -73.98143 & 40.74384 & 1 & 2015-01-27 & 01 & 2015 & 14 & 2.3232595\\\\\n",
       "\t 2015-01-27 13:08:24 UTC & -73.98686 & 40.71938 & -73.99889 & 40.73920 & 1 & 2015-01-27 & 01 & 2015 & 14 & 2.4253529\\\\\n",
       "\t 2011-10-08 11:53:44 UTC & -73.98252 & 40.75126 & -73.97965 & 40.74614 & 1 & 2011-10-08 & 10 & 2011 & 12 & 0.6186279\\\\\n",
       "\t 2012-12-01 21:12:12 UTC & -73.98116 & 40.76781 & -73.99045 & 40.75164 & 1 & 2012-12-01 & 12 & 2012 & 22 & 1.9610325\\\\\n",
       "\t 2012-12-01 21:12:12 UTC & -73.96605 & 40.78977 & -73.98856 & 40.74443 & 1 & 2012-12-01 & 12 & 2012 & 22 & 5.3873013\\\\\n",
       "\t 2012-12-01 21:12:12 UTC & -73.96098 & 40.76555 & -73.97918 & 40.74005 & 1 & 2012-12-01 & 12 & 2012 & 22 & 3.2225489\\\\\n",
       "\\end{tabular}\n"
      ],
      "text/markdown": [
       "\n",
       "A data.frame: 6 × 11\n",
       "\n",
       "| pickup_datetime &lt;chr&gt; | pickup_longitude &lt;dbl&gt; | pickup_latitude &lt;dbl&gt; | dropoff_longitude &lt;dbl&gt; | dropoff_latitude &lt;dbl&gt; | passenger_count &lt;int&gt; | pickup_date &lt;date&gt; | pickup_mnth &lt;fct&gt; | pickup_yr &lt;fct&gt; | pickup_hour &lt;dbl&gt; | distance &lt;dbl&gt; |\n",
       "|---|---|---|---|---|---|---|---|---|---|---|\n",
       "| 2015-01-27 13:08:24 UTC | -73.97332 | 40.76381 | -73.98143 | 40.74384 | 1 | 2015-01-27 | 01 | 2015 | 14 | 2.3232595 |\n",
       "| 2015-01-27 13:08:24 UTC | -73.98686 | 40.71938 | -73.99889 | 40.73920 | 1 | 2015-01-27 | 01 | 2015 | 14 | 2.4253529 |\n",
       "| 2011-10-08 11:53:44 UTC | -73.98252 | 40.75126 | -73.97965 | 40.74614 | 1 | 2011-10-08 | 10 | 2011 | 12 | 0.6186279 |\n",
       "| 2012-12-01 21:12:12 UTC | -73.98116 | 40.76781 | -73.99045 | 40.75164 | 1 | 2012-12-01 | 12 | 2012 | 22 | 1.9610325 |\n",
       "| 2012-12-01 21:12:12 UTC | -73.96605 | 40.78977 | -73.98856 | 40.74443 | 1 | 2012-12-01 | 12 | 2012 | 22 | 5.3873013 |\n",
       "| 2012-12-01 21:12:12 UTC | -73.96098 | 40.76555 | -73.97918 | 40.74005 | 1 | 2012-12-01 | 12 | 2012 | 22 | 3.2225489 |\n",
       "\n"
      ],
      "text/plain": [
       "  pickup_datetime         pickup_longitude pickup_latitude dropoff_longitude\n",
       "1 2015-01-27 13:08:24 UTC -73.97332        40.76381        -73.98143        \n",
       "2 2015-01-27 13:08:24 UTC -73.98686        40.71938        -73.99889        \n",
       "3 2011-10-08 11:53:44 UTC -73.98252        40.75126        -73.97965        \n",
       "4 2012-12-01 21:12:12 UTC -73.98116        40.76781        -73.99045        \n",
       "5 2012-12-01 21:12:12 UTC -73.96605        40.78977        -73.98856        \n",
       "6 2012-12-01 21:12:12 UTC -73.96098        40.76555        -73.97918        \n",
       "  dropoff_latitude passenger_count pickup_date pickup_mnth pickup_yr\n",
       "1 40.74384         1               2015-01-27  01          2015     \n",
       "2 40.73920         1               2015-01-27  01          2015     \n",
       "3 40.74614         1               2011-10-08  10          2011     \n",
       "4 40.75164         1               2012-12-01  12          2012     \n",
       "5 40.74443         1               2012-12-01  12          2012     \n",
       "6 40.74005         1               2012-12-01  12          2012     \n",
       "  pickup_hour distance \n",
       "1 14          2.3232595\n",
       "2 14          2.4253529\n",
       "3 12          0.6186279\n",
       "4 22          1.9610325\n",
       "5 22          5.3873013\n",
       "6 22          3.2225489"
      ]
     },
     "metadata": {},
     "output_type": "display_data"
    }
   ],
   "source": [
    "head(test_df)"
   ]
  },
  {
   "cell_type": "code",
   "execution_count": 101,
   "metadata": {},
   "outputs": [
    {
     "data": {
      "text/html": [
       "<table>\n",
       "<caption>A data.frame: 6 × 11</caption>\n",
       "<thead>\n",
       "\t<tr><th></th><th scope=col>fare_amount</th><th scope=col>pickup_longitude</th><th scope=col>dropoff_longitude</th><th scope=col>pickup_latitude</th><th scope=col>dropoff_latitude</th><th scope=col>passenger_count</th><th scope=col>pickup_date</th><th scope=col>pickup_mnth</th><th scope=col>pickup_yr</th><th scope=col>pickup_hour</th><th scope=col>distance</th></tr>\n",
       "\t<tr><th></th><th scope=col>&lt;dbl&gt;</th><th scope=col>&lt;dbl&gt;</th><th scope=col>&lt;dbl&gt;</th><th scope=col>&lt;dbl&gt;</th><th scope=col>&lt;dbl&gt;</th><th scope=col>&lt;dbl&gt;</th><th scope=col>&lt;date&gt;</th><th scope=col>&lt;fct&gt;</th><th scope=col>&lt;fct&gt;</th><th scope=col>&lt;dbl&gt;</th><th scope=col>&lt;dbl&gt;</th></tr>\n",
       "</thead>\n",
       "<tbody>\n",
       "\t<tr><th scope=row>7</th><td> 7.5</td><td>-73.98000</td><td>-73.97380</td><td>40.75166</td><td>40.76484</td><td>1</td><td>2012-11-20</td><td>11</td><td>2012</td><td>21</td><td>1.555807</td></tr>\n",
       "\t<tr><th scope=row>10</th><td> 8.9</td><td>-73.98066</td><td>-73.99154</td><td>40.73387</td><td>40.75814</td><td>2</td><td>2009-09-02</td><td>09</td><td>2009</td><td> 2</td><td>2.849627</td></tr>\n",
       "\t<tr><th scope=row>15</th><td> 7.7</td><td>-74.00182</td><td>-73.99806</td><td>40.73755</td><td>40.72279</td><td>2</td><td>2011-04-05</td><td>04</td><td>2011</td><td>18</td><td>1.671445</td></tr>\n",
       "\t<tr><th scope=row>16</th><td> 5.0</td><td>  0.00000</td><td>  0.00000</td><td> 0.00000</td><td> 0.00000</td><td>1</td><td>2013-11-23</td><td>11</td><td>2013</td><td>13</td><td>0.000000</td></tr>\n",
       "\t<tr><th scope=row>18</th><td> 5.3</td><td>-73.98106</td><td>-73.99418</td><td>40.73769</td><td>40.72841</td><td>1</td><td>2009-07-22</td><td>07</td><td>2009</td><td>17</td><td>1.511904</td></tr>\n",
       "\t<tr><th scope=row>22</th><td>11.5</td><td>-73.95795</td><td>-73.96125</td><td>40.77925</td><td>40.75879</td><td>1</td><td>2013-02-12</td><td>02</td><td>2013</td><td>13</td><td>2.292470</td></tr>\n",
       "</tbody>\n",
       "</table>\n"
      ],
      "text/latex": [
       "A data.frame: 6 × 11\n",
       "\\begin{tabular}{r|lllllllllll}\n",
       "  & fare\\_amount & pickup\\_longitude & dropoff\\_longitude & pickup\\_latitude & dropoff\\_latitude & passenger\\_count & pickup\\_date & pickup\\_mnth & pickup\\_yr & pickup\\_hour & distance\\\\\n",
       "  & <dbl> & <dbl> & <dbl> & <dbl> & <dbl> & <dbl> & <date> & <fct> & <fct> & <dbl> & <dbl>\\\\\n",
       "\\hline\n",
       "\t7 &  7.5 & -73.98000 & -73.97380 & 40.75166 & 40.76484 & 1 & 2012-11-20 & 11 & 2012 & 21 & 1.555807\\\\\n",
       "\t10 &  8.9 & -73.98066 & -73.99154 & 40.73387 & 40.75814 & 2 & 2009-09-02 & 09 & 2009 &  2 & 2.849627\\\\\n",
       "\t15 &  7.7 & -74.00182 & -73.99806 & 40.73755 & 40.72279 & 2 & 2011-04-05 & 04 & 2011 & 18 & 1.671445\\\\\n",
       "\t16 &  5.0 &   0.00000 &   0.00000 &  0.00000 &  0.00000 & 1 & 2013-11-23 & 11 & 2013 & 13 & 0.000000\\\\\n",
       "\t18 &  5.3 & -73.98106 & -73.99418 & 40.73769 & 40.72841 & 1 & 2009-07-22 & 07 & 2009 & 17 & 1.511904\\\\\n",
       "\t22 & 11.5 & -73.95795 & -73.96125 & 40.77925 & 40.75879 & 1 & 2013-02-12 & 02 & 2013 & 13 & 2.292470\\\\\n",
       "\\end{tabular}\n"
      ],
      "text/markdown": [
       "\n",
       "A data.frame: 6 × 11\n",
       "\n",
       "| <!--/--> | fare_amount &lt;dbl&gt; | pickup_longitude &lt;dbl&gt; | dropoff_longitude &lt;dbl&gt; | pickup_latitude &lt;dbl&gt; | dropoff_latitude &lt;dbl&gt; | passenger_count &lt;dbl&gt; | pickup_date &lt;date&gt; | pickup_mnth &lt;fct&gt; | pickup_yr &lt;fct&gt; | pickup_hour &lt;dbl&gt; | distance &lt;dbl&gt; |\n",
       "|---|---|---|---|---|---|---|---|---|---|---|---|\n",
       "| 7 |  7.5 | -73.98000 | -73.97380 | 40.75166 | 40.76484 | 1 | 2012-11-20 | 11 | 2012 | 21 | 1.555807 |\n",
       "| 10 |  8.9 | -73.98066 | -73.99154 | 40.73387 | 40.75814 | 2 | 2009-09-02 | 09 | 2009 |  2 | 2.849627 |\n",
       "| 15 |  7.7 | -74.00182 | -73.99806 | 40.73755 | 40.72279 | 2 | 2011-04-05 | 04 | 2011 | 18 | 1.671445 |\n",
       "| 16 |  5.0 |   0.00000 |   0.00000 |  0.00000 |  0.00000 | 1 | 2013-11-23 | 11 | 2013 | 13 | 0.000000 |\n",
       "| 18 |  5.3 | -73.98106 | -73.99418 | 40.73769 | 40.72841 | 1 | 2009-07-22 | 07 | 2009 | 17 | 1.511904 |\n",
       "| 22 | 11.5 | -73.95795 | -73.96125 | 40.77925 | 40.75879 | 1 | 2013-02-12 | 02 | 2013 | 13 | 2.292470 |\n",
       "\n"
      ],
      "text/plain": [
       "   fare_amount pickup_longitude dropoff_longitude pickup_latitude\n",
       "7   7.5        -73.98000        -73.97380         40.75166       \n",
       "10  8.9        -73.98066        -73.99154         40.73387       \n",
       "15  7.7        -74.00182        -73.99806         40.73755       \n",
       "16  5.0          0.00000          0.00000          0.00000       \n",
       "18  5.3        -73.98106        -73.99418         40.73769       \n",
       "22 11.5        -73.95795        -73.96125         40.77925       \n",
       "   dropoff_latitude passenger_count pickup_date pickup_mnth pickup_yr\n",
       "7  40.76484         1               2012-11-20  11          2012     \n",
       "10 40.75814         2               2009-09-02  09          2009     \n",
       "15 40.72279         2               2011-04-05  04          2011     \n",
       "16  0.00000         1               2013-11-23  11          2013     \n",
       "18 40.72841         1               2009-07-22  07          2009     \n",
       "22 40.75879         1               2013-02-12  02          2013     \n",
       "   pickup_hour distance\n",
       "7  21          1.555807\n",
       "10  2          2.849627\n",
       "15 18          1.671445\n",
       "16 13          0.000000\n",
       "18 17          1.511904\n",
       "22 13          2.292470"
      ]
     },
     "metadata": {},
     "output_type": "display_data"
    }
   ],
   "source": [
    "#Predict for new test cases\n",
    "\n",
    "predictions_DT = predict(fit, test)\n"
   ]
  },
  {
   "cell_type": "code",
   "execution_count": 102,
   "metadata": {},
   "outputs": [
    {
     "data": {
      "text/html": [
       "0.26600049363014"
      ],
      "text/latex": [
       "0.26600049363014"
      ],
      "text/markdown": [
       "0.26600049363014"
      ],
      "text/plain": [
       "[1] 0.2660005"
      ]
     },
     "metadata": {},
     "output_type": "display_data"
    },
    {
     "data": {
      "text/html": [
       "73.399950636986"
      ],
      "text/latex": [
       "73.399950636986"
      ],
      "text/markdown": [
       "73.399950636986"
      ],
      "text/plain": [
       "[1] 73.39995"
      ]
     },
     "metadata": {},
     "output_type": "display_data"
    },
    {
     "data": {
      "text/html": [
       "5.38910114584255"
      ],
      "text/latex": [
       "5.38910114584255"
      ],
      "text/markdown": [
       "5.38910114584255"
      ],
      "text/plain": [
       "[1] 5.389101"
      ]
     },
     "metadata": {},
     "output_type": "display_data"
    }
   ],
   "source": [
    "####################Mean Absolute Percentage Error###########################################\n",
    "\n",
    "error <- mape(predictions_DT,test$fare_amount)\n",
    "error\n",
    "accuracy <- (1-error)*100\n",
    "accuracy\n",
    "\n",
    "\n",
    "####################Root Mean square Error###########################################\n",
    "rmse(actual = test$fare_amount,predicted = predictions_DT)\n",
    "\n"
   ]
  },
  {
   "cell_type": "code",
   "execution_count": 103,
   "metadata": {},
   "outputs": [
    {
     "data": {
      "text/plain": [
       "\n",
       "Call:\n",
       "lm(formula = fare_amount ~ ., data = train)\n",
       "\n",
       "Residuals:\n",
       "    Min      1Q  Median      3Q     Max \n",
       "-17.943  -5.138  -2.739   1.308  83.462 \n",
       "\n",
       "Coefficients:\n",
       "                    Estimate Std. Error t value Pr(>|t|)    \n",
       "(Intercept)        8.595e+01  1.366e+02   0.629 0.529091    \n",
       "pickup_longitude  -2.348e-02  1.037e-01  -0.226 0.820880    \n",
       "dropoff_longitude -6.864e-03  9.630e-02  -0.071 0.943180    \n",
       "pickup_latitude   -4.199e-02  1.865e-01  -0.225 0.821885    \n",
       "dropoff_latitude  -1.769e-02  1.740e-01  -0.102 0.919033    \n",
       "passenger_count    8.068e-02  6.517e-02   1.238 0.215733    \n",
       "pickup_date       -5.336e-03  9.576e-03  -0.557 0.577360    \n",
       "pickup_mnth02      5.288e-01  4.875e-01   1.085 0.278130    \n",
       "pickup_mnth03      9.122e-01  6.834e-01   1.335 0.181977    \n",
       "pickup_mnth04      1.695e+00  9.405e-01   1.803 0.071477 .  \n",
       "pickup_mnth05      1.698e+00  1.210e+00   1.403 0.160698    \n",
       "pickup_mnth06      1.386e+00  1.495e+00   0.928 0.353592    \n",
       "pickup_mnth07      1.460e+00  1.785e+00   0.818 0.413624    \n",
       "pickup_mnth08      2.926e+00  2.069e+00   1.414 0.157385    \n",
       "pickup_mnth09      2.993e+00  2.361e+00   1.267 0.205016    \n",
       "pickup_mnth10      3.585e+00  2.643e+00   1.356 0.174978    \n",
       "pickup_mnth11      3.206e+00  2.930e+00   1.094 0.273898    \n",
       "pickup_mnth12      3.297e+00  3.216e+00   1.025 0.305295    \n",
       "pickup_yr2010      1.572e+00  3.508e+00   0.448 0.654047    \n",
       "pickup_yr2011      3.766e+00  6.992e+00   0.539 0.590145    \n",
       "pickup_yr2012      6.990e+00  1.049e+01   0.666 0.505342    \n",
       "pickup_yr2013      9.884e+00  1.399e+01   0.707 0.479872    \n",
       "pickup_yr2014      1.242e+01  1.748e+01   0.711 0.477380    \n",
       "pickup_yr2015      1.467e+01  2.098e+01   0.699 0.484449    \n",
       "pickup_hour       -4.172e-02  1.268e-02  -3.289 0.001008 ** \n",
       "distance           8.769e-04  2.485e-04   3.529 0.000419 ***\n",
       "---\n",
       "Signif. codes:  0 ‘***’ 0.001 ‘**’ 0.01 ‘*’ 0.05 ‘.’ 0.1 ‘ ’ 1\n",
       "\n",
       "Residual standard error: 9.359 on 12801 degrees of freedom\n",
       "Multiple R-squared:  0.0222,\tAdjusted R-squared:  0.02029 \n",
       "F-statistic: 11.62 on 25 and 12801 DF,  p-value: < 2.2e-16\n"
      ]
     },
     "metadata": {},
     "output_type": "display_data"
    }
   ],
   "source": [
    "#################################################Regression Analysis#############################################\n",
    "#the base function lm is used for regression.\n",
    "regmodel <- lm(fare_amount ~ ., data = train)\n",
    "summary(regmodel)\n",
    "\n",
    "\n",
    "\n"
   ]
  },
  {
   "cell_type": "code",
   "execution_count": 112,
   "metadata": {},
   "outputs": [
    {
     "data": {
      "text/html": [
       "0.509387049648153"
      ],
      "text/latex": [
       "0.509387049648153"
      ],
      "text/markdown": [
       "0.509387049648153"
      ],
      "text/plain": [
       "[1] 0.509387"
      ]
     },
     "metadata": {},
     "output_type": "display_data"
    },
    {
     "data": {
      "text/html": [
       "49.0612950351847"
      ],
      "text/latex": [
       "49.0612950351847"
      ],
      "text/markdown": [
       "49.0612950351847"
      ],
      "text/plain": [
       "[1] 49.0613"
      ]
     },
     "metadata": {},
     "output_type": "display_data"
    },
    {
     "data": {
      "text/html": [
       "8.96655073661903"
      ],
      "text/latex": [
       "8.96655073661903"
      ],
      "text/markdown": [
       "8.96655073661903"
      ],
      "text/plain": [
       "[1] 8.966551"
      ]
     },
     "metadata": {},
     "output_type": "display_data"
    }
   ],
   "source": [
    "\n",
    "\n",
    "# lets test model\n",
    "regpred <- predict(regmodel, test)\n",
    "\n",
    "error <- mape(regpred,test$fare_amount)\n",
    "error\n",
    "accuracy <- (1-error)*100\n",
    "accuracy\n",
    "rmse(actual = test$fare_amount,predicted = regpred)\n"
   ]
  },
  {
   "cell_type": "code",
   "execution_count": 114,
   "metadata": {},
   "outputs": [
    {
     "name": "stderr",
     "output_type": "stream",
     "text": [
      "randomForest 4.6-14\n",
      "Type rfNews() to see new features/changes/bug fixes.\n",
      "\n",
      "Attaching package: ‘randomForest’\n",
      "\n",
      "The following object is masked from ‘package:dplyr’:\n",
      "\n",
      "    combine\n",
      "\n",
      "The following object is masked from ‘package:ggplot2’:\n",
      "\n",
      "    margin\n",
      "\n"
     ]
    }
   ],
   "source": [
    "# Number of variables randomly sampled as candidates at each split. Note that the default values are different for classification (sqrt(p) \n",
    "# where p is number of variables in x) and regression (p/3)\n",
    "##############################Random Forest model###################################\n",
    "\n",
    "library(randomForest)\n",
    "\n",
    "rf <- randomForest(fare_amount ~ ., data = train, ntree=20)\n",
    "\n",
    "predictions_RF = predict(rf, test)"
   ]
  },
  {
   "cell_type": "code",
   "execution_count": 115,
   "metadata": {},
   "outputs": [
    {
     "data": {
      "text/html": [
       "0.205735808416372"
      ],
      "text/latex": [
       "0.205735808416372"
      ],
      "text/markdown": [
       "0.205735808416372"
      ],
      "text/plain": [
       "[1] 0.2057358"
      ]
     },
     "metadata": {},
     "output_type": "display_data"
    },
    {
     "data": {
      "text/html": [
       "79.4264191583628"
      ],
      "text/latex": [
       "79.4264191583628"
      ],
      "text/markdown": [
       "79.4264191583628"
      ],
      "text/plain": [
       "[1] 79.42642"
      ]
     },
     "metadata": {},
     "output_type": "display_data"
    },
    {
     "data": {
      "text/html": [
       "4.62586477685169"
      ],
      "text/latex": [
       "4.62586477685169"
      ],
      "text/markdown": [
       "4.62586477685169"
      ],
      "text/plain": [
       "[1] 4.625865"
      ]
     },
     "metadata": {},
     "output_type": "display_data"
    }
   ],
   "source": [
    "####################Mean Absolute Percentage Error###########################################\n",
    "\n",
    "error <- mape(predictions_RF,test$fare_amount)\n",
    "error\n",
    "accuracy <- (1-error)*100\n",
    "accuracy\n",
    "\n",
    "\n",
    "####################Root Mean square Error###########################################\n",
    "rmse(actual = test$fare_amount,predicted = predictions_RF)\n",
    "\n"
   ]
  },
  {
   "cell_type": "code",
   "execution_count": 117,
   "metadata": {},
   "outputs": [],
   "source": [
    "# Number of variables randomly sampled as candidates at each split. Note that the default values are different for classification (sqrt(p) \n",
    "# where p is number of variables and for regression we take mtry=(p/3)\n",
    "##############################Random Forest model###################################\n",
    "\n",
    "rf_2=randomForest(fare_amount ~ . , data = train,mtry =4,ntree=100 ,nodesize =10 ,importance =TRUE)"
   ]
  },
  {
   "cell_type": "code",
   "execution_count": 119,
   "metadata": {},
   "outputs": [],
   "source": [
    "\n",
    "predictions_RF2 = predict(rf_2, test)"
   ]
  },
  {
   "cell_type": "code",
   "execution_count": 120,
   "metadata": {},
   "outputs": [
    {
     "data": {
      "text/html": [
       "0.200908952833695"
      ],
      "text/latex": [
       "0.200908952833695"
      ],
      "text/markdown": [
       "0.200908952833695"
      ],
      "text/plain": [
       "[1] 0.200909"
      ]
     },
     "metadata": {},
     "output_type": "display_data"
    },
    {
     "data": {
      "text/html": [
       "79.9091047166305"
      ],
      "text/latex": [
       "79.9091047166305"
      ],
      "text/markdown": [
       "79.9091047166305"
      ],
      "text/plain": [
       "[1] 79.9091"
      ]
     },
     "metadata": {},
     "output_type": "display_data"
    },
    {
     "data": {
      "text/html": [
       "4.60001705106375"
      ],
      "text/latex": [
       "4.60001705106375"
      ],
      "text/markdown": [
       "4.60001705106375"
      ],
      "text/plain": [
       "[1] 4.600017"
      ]
     },
     "metadata": {},
     "output_type": "display_data"
    }
   ],
   "source": [
    "####################Mean Absolute Percentage Error###########################################\n",
    "\n",
    "error <- mape(predictions_RF2,test$fare_amount)\n",
    "error\n",
    "accuracy <- (1-error)*100\n",
    "accuracy\n",
    "\n",
    "\n",
    "####################Root Mean square Error###########################################\n",
    "rmse(actual = test$fare_amount,predicted = predictions_RF2)"
   ]
  },
  {
   "cell_type": "code",
   "execution_count": 125,
   "metadata": {},
   "outputs": [],
   "source": [
    "##################################### infrencing of test data #####################################3\n",
    "fare_amount = predict(rf_2, test_df)"
   ]
  },
  {
   "cell_type": "code",
   "execution_count": 127,
   "metadata": {},
   "outputs": [],
   "source": [
    "test_df$fare_amount = fare_amount"
   ]
  },
  {
   "cell_type": "code",
   "execution_count": 128,
   "metadata": {},
   "outputs": [
    {
     "data": {
      "text/html": [
       "<table>\n",
       "<caption>A data.frame: 6 × 13</caption>\n",
       "<thead>\n",
       "\t<tr><th scope=col>X</th><th scope=col>pickup_datetime</th><th scope=col>pickup_longitude</th><th scope=col>pickup_latitude</th><th scope=col>dropoff_longitude</th><th scope=col>dropoff_latitude</th><th scope=col>passenger_count</th><th scope=col>pickup_date</th><th scope=col>pickup_mnth</th><th scope=col>pickup_yr</th><th scope=col>pickup_hour</th><th scope=col>distance</th><th scope=col>fare_amount</th></tr>\n",
       "\t<tr><th scope=col>&lt;int&gt;</th><th scope=col>&lt;fct&gt;</th><th scope=col>&lt;dbl&gt;</th><th scope=col>&lt;dbl&gt;</th><th scope=col>&lt;dbl&gt;</th><th scope=col>&lt;dbl&gt;</th><th scope=col>&lt;int&gt;</th><th scope=col>&lt;fct&gt;</th><th scope=col>&lt;int&gt;</th><th scope=col>&lt;int&gt;</th><th scope=col>&lt;int&gt;</th><th scope=col>&lt;dbl&gt;</th><th scope=col>&lt;dbl&gt;</th></tr>\n",
       "</thead>\n",
       "<tbody>\n",
       "\t<tr><td>1</td><td>2015-01-27 13:08:24 UTC</td><td>-73.97332</td><td>40.76381</td><td>-73.98143</td><td>40.74384</td><td>1</td><td>2015-01-27</td><td> 1</td><td>2015</td><td>14</td><td>2.3232595</td><td>10.209672</td></tr>\n",
       "\t<tr><td>2</td><td>2015-01-27 13:08:24 UTC</td><td>-73.98686</td><td>40.71938</td><td>-73.99889</td><td>40.73920</td><td>1</td><td>2015-01-27</td><td> 1</td><td>2015</td><td>14</td><td>2.4253529</td><td> 9.703376</td></tr>\n",
       "\t<tr><td>3</td><td>2011-10-08 11:53:44 UTC</td><td>-73.98252</td><td>40.75126</td><td>-73.97965</td><td>40.74614</td><td>1</td><td>2011-10-08</td><td>10</td><td>2011</td><td>12</td><td>0.6186279</td><td> 4.621415</td></tr>\n",
       "\t<tr><td>4</td><td>2012-12-01 21:12:12 UTC</td><td>-73.98116</td><td>40.76781</td><td>-73.99045</td><td>40.75164</td><td>1</td><td>2012-12-01</td><td>12</td><td>2012</td><td>22</td><td>1.9610325</td><td>10.004530</td></tr>\n",
       "\t<tr><td>5</td><td>2012-12-01 21:12:12 UTC</td><td>-73.96605</td><td>40.78977</td><td>-73.98856</td><td>40.74443</td><td>1</td><td>2012-12-01</td><td>12</td><td>2012</td><td>22</td><td>5.3873013</td><td>16.881922</td></tr>\n",
       "\t<tr><td>6</td><td>2012-12-01 21:12:12 UTC</td><td>-73.96098</td><td>40.76555</td><td>-73.97918</td><td>40.74005</td><td>1</td><td>2012-12-01</td><td>12</td><td>2012</td><td>22</td><td>3.2225489</td><td>10.968475</td></tr>\n",
       "</tbody>\n",
       "</table>\n"
      ],
      "text/latex": [
       "A data.frame: 6 × 13\n",
       "\\begin{tabular}{r|lllllllllllll}\n",
       " X & pickup\\_datetime & pickup\\_longitude & pickup\\_latitude & dropoff\\_longitude & dropoff\\_latitude & passenger\\_count & pickup\\_date & pickup\\_mnth & pickup\\_yr & pickup\\_hour & distance & fare\\_amount\\\\\n",
       " <int> & <fct> & <dbl> & <dbl> & <dbl> & <dbl> & <int> & <fct> & <int> & <int> & <int> & <dbl> & <dbl>\\\\\n",
       "\\hline\n",
       "\t 1 & 2015-01-27 13:08:24 UTC & -73.97332 & 40.76381 & -73.98143 & 40.74384 & 1 & 2015-01-27 &  1 & 2015 & 14 & 2.3232595 & 10.209672\\\\\n",
       "\t 2 & 2015-01-27 13:08:24 UTC & -73.98686 & 40.71938 & -73.99889 & 40.73920 & 1 & 2015-01-27 &  1 & 2015 & 14 & 2.4253529 &  9.703376\\\\\n",
       "\t 3 & 2011-10-08 11:53:44 UTC & -73.98252 & 40.75126 & -73.97965 & 40.74614 & 1 & 2011-10-08 & 10 & 2011 & 12 & 0.6186279 &  4.621415\\\\\n",
       "\t 4 & 2012-12-01 21:12:12 UTC & -73.98116 & 40.76781 & -73.99045 & 40.75164 & 1 & 2012-12-01 & 12 & 2012 & 22 & 1.9610325 & 10.004530\\\\\n",
       "\t 5 & 2012-12-01 21:12:12 UTC & -73.96605 & 40.78977 & -73.98856 & 40.74443 & 1 & 2012-12-01 & 12 & 2012 & 22 & 5.3873013 & 16.881922\\\\\n",
       "\t 6 & 2012-12-01 21:12:12 UTC & -73.96098 & 40.76555 & -73.97918 & 40.74005 & 1 & 2012-12-01 & 12 & 2012 & 22 & 3.2225489 & 10.968475\\\\\n",
       "\\end{tabular}\n"
      ],
      "text/markdown": [
       "\n",
       "A data.frame: 6 × 13\n",
       "\n",
       "| X &lt;int&gt; | pickup_datetime &lt;fct&gt; | pickup_longitude &lt;dbl&gt; | pickup_latitude &lt;dbl&gt; | dropoff_longitude &lt;dbl&gt; | dropoff_latitude &lt;dbl&gt; | passenger_count &lt;int&gt; | pickup_date &lt;fct&gt; | pickup_mnth &lt;int&gt; | pickup_yr &lt;int&gt; | pickup_hour &lt;int&gt; | distance &lt;dbl&gt; | fare_amount &lt;dbl&gt; |\n",
       "|---|---|---|---|---|---|---|---|---|---|---|---|---|\n",
       "| 1 | 2015-01-27 13:08:24 UTC | -73.97332 | 40.76381 | -73.98143 | 40.74384 | 1 | 2015-01-27 |  1 | 2015 | 14 | 2.3232595 | 10.209672 |\n",
       "| 2 | 2015-01-27 13:08:24 UTC | -73.98686 | 40.71938 | -73.99889 | 40.73920 | 1 | 2015-01-27 |  1 | 2015 | 14 | 2.4253529 |  9.703376 |\n",
       "| 3 | 2011-10-08 11:53:44 UTC | -73.98252 | 40.75126 | -73.97965 | 40.74614 | 1 | 2011-10-08 | 10 | 2011 | 12 | 0.6186279 |  4.621415 |\n",
       "| 4 | 2012-12-01 21:12:12 UTC | -73.98116 | 40.76781 | -73.99045 | 40.75164 | 1 | 2012-12-01 | 12 | 2012 | 22 | 1.9610325 | 10.004530 |\n",
       "| 5 | 2012-12-01 21:12:12 UTC | -73.96605 | 40.78977 | -73.98856 | 40.74443 | 1 | 2012-12-01 | 12 | 2012 | 22 | 5.3873013 | 16.881922 |\n",
       "| 6 | 2012-12-01 21:12:12 UTC | -73.96098 | 40.76555 | -73.97918 | 40.74005 | 1 | 2012-12-01 | 12 | 2012 | 22 | 3.2225489 | 10.968475 |\n",
       "\n"
      ],
      "text/plain": [
       "  X pickup_datetime         pickup_longitude pickup_latitude dropoff_longitude\n",
       "1 1 2015-01-27 13:08:24 UTC -73.97332        40.76381        -73.98143        \n",
       "2 2 2015-01-27 13:08:24 UTC -73.98686        40.71938        -73.99889        \n",
       "3 3 2011-10-08 11:53:44 UTC -73.98252        40.75126        -73.97965        \n",
       "4 4 2012-12-01 21:12:12 UTC -73.98116        40.76781        -73.99045        \n",
       "5 5 2012-12-01 21:12:12 UTC -73.96605        40.78977        -73.98856        \n",
       "6 6 2012-12-01 21:12:12 UTC -73.96098        40.76555        -73.97918        \n",
       "  dropoff_latitude passenger_count pickup_date pickup_mnth pickup_yr\n",
       "1 40.74384         1               2015-01-27   1          2015     \n",
       "2 40.73920         1               2015-01-27   1          2015     \n",
       "3 40.74614         1               2011-10-08  10          2011     \n",
       "4 40.75164         1               2012-12-01  12          2012     \n",
       "5 40.74443         1               2012-12-01  12          2012     \n",
       "6 40.74005         1               2012-12-01  12          2012     \n",
       "  pickup_hour distance  fare_amount\n",
       "1 14          2.3232595 10.209672  \n",
       "2 14          2.4253529  9.703376  \n",
       "3 12          0.6186279  4.621415  \n",
       "4 22          1.9610325 10.004530  \n",
       "5 22          5.3873013 16.881922  \n",
       "6 22          3.2225489 10.968475  "
      ]
     },
     "metadata": {},
     "output_type": "display_data"
    }
   ],
   "source": [
    "write.csv(test_df,'./final_test_data.csv')\n",
    "final_test_data <- read.csv(\"./final_test_data.csv\")\n",
    "head(final_test_data)"
   ]
  },
  {
   "cell_type": "code",
   "execution_count": null,
   "metadata": {},
   "outputs": [],
   "source": []
  }
 ],
 "metadata": {
  "kernelspec": {
   "display_name": "R",
   "language": "R",
   "name": "ir"
  },
  "language_info": {
   "codemirror_mode": "r",
   "file_extension": ".r",
   "mimetype": "text/x-r-source",
   "name": "R",
   "pygments_lexer": "r",
   "version": "3.6.1"
  }
 },
 "nbformat": 4,
 "nbformat_minor": 2
}
